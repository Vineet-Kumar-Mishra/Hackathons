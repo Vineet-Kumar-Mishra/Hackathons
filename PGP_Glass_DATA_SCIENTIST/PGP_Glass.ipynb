{
 "cells": [
  {
   "cell_type": "markdown",
   "id": "131be2c7",
   "metadata": {},
   "source": [
    "# Import Important libraries"
   ]
  },
  {
   "cell_type": "code",
   "execution_count": 1,
   "id": "103421f8",
   "metadata": {},
   "outputs": [],
   "source": [
    "import numpy as np\n",
    "import pandas as pd\n",
    "import matplotlib.pyplot as plt\n",
    "import cv2\n",
    "import os\n",
    "import seaborn as sns\n",
    "import tensorflow as tf\n",
    "from tensorflow.keras.applications import MobileNetV2\n",
    "from tensorflow.keras.layers import Input, Dense, GlobalAveragePooling2D, Dropout\n",
    "from tensorflow.keras.models import Model\n",
    "from tensorflow.keras.preprocessing.image import ImageDataGenerator\n",
    "from tensorflow.keras.callbacks import EarlyStopping, ReduceLROnPlateau, ModelCheckpoint\n",
    "from tensorflow_addons.losses import SigmoidFocalCrossEntropy\n",
    "from sklearn.model_selection import train_test_split\n",
    "from sklearn.metrics import f1_score, confusion_matrix\n",
    "from tqdm.notebook import tqdm_notebook\n",
    "import warnings \n",
    "warnings.filterwarnings('ignore')"
   ]
  },
  {
   "cell_type": "markdown",
   "id": "bc05729f",
   "metadata": {},
   "source": [
    "# using GPU"
   ]
  },
  {
   "cell_type": "code",
   "execution_count": 2,
   "id": "cf6cf852",
   "metadata": {},
   "outputs": [
    {
     "name": "stdout",
     "output_type": "stream",
     "text": [
      "number of GPUs found  1\n",
      "\n",
      " Loaded on GPU\n"
     ]
    }
   ],
   "source": [
    "physical_devices = tf.config.experimental.list_physical_devices('GPU')\n",
    "print(\"number of GPUs found \",len(physical_devices))\n",
    "print('\\n Loaded on GPU')\n",
    "tf.config.experimental.set_memory_growth(physical_devices[0], True)"
   ]
  },
  {
   "cell_type": "markdown",
   "id": "8fc71431",
   "metadata": {},
   "source": [
    "# The training data"
   ]
  },
  {
   "cell_type": "code",
   "execution_count": 3,
   "id": "cc8fe50a",
   "metadata": {},
   "outputs": [],
   "source": [
    "train_df = pd.read_csv('train.csv')\n",
    "train_df = train_df.reset_index(drop=True)"
   ]
  },
  {
   "cell_type": "markdown",
   "id": "9e8539e0",
   "metadata": {},
   "source": [
    "# Looking for label distribution"
   ]
  },
  {
   "cell_type": "code",
   "execution_count": 4,
   "id": "5f856a11",
   "metadata": {},
   "outputs": [
    {
     "name": "stdout",
     "output_type": "stream",
     "text": [
      "Unique labels in train set :\n",
      "\n",
      " ['Badminton' 'Cricket' 'Tennis' 'Swimming' 'Soccer' 'Wrestling' 'Karate']\n"
     ]
    }
   ],
   "source": [
    "print('Unique labels in train set :\\n\\n',train_df.label.unique())"
   ]
  },
  {
   "cell_type": "code",
   "execution_count": 5,
   "id": "5d27039e",
   "metadata": {},
   "outputs": [
    {
     "data": {
      "image/png": "[encoded data removed]",
      "text/plain": [
       "<Figure size 432x288 with 1 Axes>"
      ]
     },
     "metadata": {
      "needs_background": "light"
     },
     "output_type": "display_data"
    }
   ],
   "source": [
    "sns.countplot(train_df['label'])\n",
    "plt.title('Label distribution')\n",
    "plt.xticks(rotation='vertical')\n",
    "plt.show()"
   ]
  },
  {
   "cell_type": "markdown",
   "id": "31b4e278",
   "metadata": {},
   "source": [
    "# Dividing the data into train and valid set\n",
    "The valid set is 25% of total training data"
   ]
  },
  {
   "cell_type": "code",
   "execution_count": 6,
   "id": "ef421811",
   "metadata": {},
   "outputs": [],
   "source": [
    "train, valid = train_test_split(train_df, random_state=42, test_size=0.25, stratify=train_df['label'])"
   ]
  },
  {
   "cell_type": "markdown",
   "id": "e8ab9da2",
   "metadata": {},
   "source": [
    "# The model\n",
    "1. Using mobilenetV2 as the base model i.e. feature extractor\n",
    "2. Using custom fully connected layer for classification"
   ]
  },
  {
   "cell_type": "code",
   "execution_count": 7,
   "id": "0b754960",
   "metadata": {},
   "outputs": [],
   "source": [
    "def classifier():\n",
    "    input_layer = Input(shape = (224,224,3))\n",
    "    base = MobileNetV2(input_shape = (224,224,3), weights = 'imagenet', include_top = False)(input_layer)\n",
    "    output = GlobalAveragePooling2D()(base)\n",
    "    output = Dense(1024, activation = 'relu')(output)\n",
    "    output = Dropout(0.25)(output)\n",
    "    output = Dense(1024, activation = 'relu')(output)\n",
    "    output = Dropout(0.25)(output)\n",
    "    output = Dense(7, activation = 'softmax')(output)\n",
    "    \n",
    "    model = Model(input_layer, output)\n",
    "    \n",
    "    return model"
   ]
  },
  {
   "cell_type": "markdown",
   "id": "a3e2bd99",
   "metadata": {},
   "source": [
    "# Dataset\n",
    "1. Using ImageDataGenerator of keras for dataset generation from dataframe\n",
    "2. Augmenting the data and resizing to (224,224,3)\n",
    "3. The batch size is 25 (used to utilize the full capacity of my GPU)"
   ]
  },
  {
   "cell_type": "code",
   "execution_count": 8,
   "id": "7394d7a4",
   "metadata": {},
   "outputs": [
    {
     "name": "stdout",
     "output_type": "stream",
     "text": [
      "Found 6170 validated image filenames belonging to 7 classes.\n",
      "Found 2057 validated image filenames belonging to 7 classes.\n"
     ]
    }
   ],
   "source": [
    "batch_size = 25\n",
    "\n",
    "datagen = ImageDataGenerator(rescale = (1/255.0),\n",
    "                            horizontal_flip=True,\n",
    "                            rotation_range = 60,\n",
    "                            width_shift_range = 0.3, height_shift_range = 0.3,\n",
    "                            brightness_range = [0.5,1.5],\n",
    "                            zoom_range=0.5)\n",
    "\n",
    "train_generator = datagen.flow_from_dataframe(dataframe = train,\n",
    "                                             directory = './train',\n",
    "                                             x_col = 'image_ID',\n",
    "                                             y_col = 'label',\n",
    "                                             batch_size = batch_size,\n",
    "                                             shuffle = True,\n",
    "                                             seed = 42,\n",
    "                                             target_size = (224,224),\n",
    "                                             class_mode=\"categorical\")\n",
    "\n",
    "valid_generator = datagen.flow_from_dataframe(dataframe = valid,\n",
    "                                             directory = './train',\n",
    "                                             x_col = 'image_ID',\n",
    "                                             y_col = 'label',\n",
    "                                             batch_size = batch_size,\n",
    "                                             shuffle = False,\n",
    "                                             seed = 42,\n",
    "                                             target_size = (224,224),\n",
    "                                            class_mode = \"categorical\")"
   ]
  },
  {
   "cell_type": "code",
   "execution_count": 11,
   "id": "8cc022ac",
   "metadata": {},
   "outputs": [
    {
     "name": "stdout",
     "output_type": "stream",
     "text": [
      "Dictionary created by generator \n",
      "{'Badminton': 0, 'Cricket': 1, 'Karate': 2, 'Soccer': 3, 'Swimming': 4, 'Tennis': 5, 'Wrestling': 6}\n"
     ]
    }
   ],
   "source": [
    "print(f'Dictionary created by generator \\n{valid_generator.class_indices}')"
   ]
  },
  {
   "cell_type": "markdown",
   "id": "5e62b4b4",
   "metadata": {},
   "source": [
    "# Callbacks\n",
    "1. earlystopper - for early stopping with patience parameter of 10\n",
    "2. reduce_lr - It reduces learning rate when loss plateaus i.e. stops improving\n",
    "3. checkpointer - to save best model weights"
   ]
  },
  {
   "cell_type": "code",
   "execution_count": null,
   "id": "06410acc",
   "metadata": {},
   "outputs": [],
   "source": [
    "earlystopper = EarlyStopping(monitor='val_loss', patience=10, verbose=1)\n",
    "\n",
    "reduce_lr = ReduceLROnPlateau(monitor='val_loss', factor=0.5, patience=2, \n",
    "                           verbose=1, mode='max', min_lr=0.00001)\n",
    "\n",
    "checkpointer = ModelCheckpoint('best_model1.h5'\n",
    "                                ,monitor='val_accuracy'\n",
    "                                ,verbose=1\n",
    "                                ,save_best_only=True\n",
    "                                ,save_weights_only=True)\n",
    "\n",
    "train_steps = train.shape[0]//batch_size\n",
    "valid_step = valid.shape[0]//batch_size\n",
    "\n",
    "model = classifier()"
   ]
  },
  {
   "cell_type": "markdown",
   "id": "cdf88405",
   "metadata": {},
   "source": [
    "# Function to measure f1 score at each epoch"
   ]
  },
  {
   "cell_type": "code",
   "execution_count": null,
   "id": "9bcf1ab0",
   "metadata": {},
   "outputs": [],
   "source": [
    "from keras import backend as K\n",
    "def recall_m(y_true, y_pred):\n",
    "    true_positives = K.sum(K.round(K.clip(y_true * y_pred, 0, 1)))\n",
    "    possible_positives = K.sum(K.round(K.clip(y_true, 0, 1)))\n",
    "    recall = true_positives / (possible_positives + K.epsilon())\n",
    "    return recall\n",
    "\n",
    "def precision_m(y_true, y_pred):\n",
    "    true_positives = K.sum(K.round(K.clip(y_true * y_pred, 0, 1)))\n",
    "    predicted_positives = K.sum(K.round(K.clip(y_pred, 0, 1)))\n",
    "    precision = true_positives / (predicted_positives + K.epsilon())\n",
    "    return precision\n",
    "\n",
    "def f1_m(y_true, y_pred):\n",
    "    precision = precision_m(y_true, y_pred)\n",
    "    recall = recall_m(y_true, y_pred)\n",
    "    return 2*((precision*recall)/(precision+recall+K.epsilon()))\n"
   ]
  },
  {
   "cell_type": "markdown",
   "id": "a9968dc8",
   "metadata": {},
   "source": [
    "# Compiling\n",
    "1. To inculcate the custom f1 claculation function in metric"
   ]
  },
  {
   "cell_type": "code",
   "execution_count": null,
   "id": "5be21032",
   "metadata": {},
   "outputs": [],
   "source": [
    "model.compile(optimizer = 'adam', loss = 'categorical_crossentropy', metrics = ['accuracy',f1_m])"
   ]
  },
  {
   "cell_type": "markdown",
   "id": "5710dda7",
   "metadata": {},
   "source": [
    "# Training the model"
   ]
  },
  {
   "cell_type": "code",
   "execution_count": null,
   "id": "b956b670",
   "metadata": {},
   "outputs": [],
   "source": [
    "history = model.fit(train_generator,\n",
    "                  validation_data = valid_generator,\n",
    "                 epochs=150,steps_per_epoch = train_steps,\n",
    "                 validation_steps = valid_step,\n",
    "                 callbacks = [earlystopper, checkpointer, reduce_lr])"
   ]
  },
  {
   "cell_type": "markdown",
   "id": "5cb8a565",
   "metadata": {},
   "source": [
    "# Re-Compiling\n",
    "1. We had a custom parameter i.e. f1 score\n",
    "2. Now the weights have to be saved and we need to write the whole function to create model while testing\n",
    "3. We recompile by removing the custom functions and hence can now save the model directly"
   ]
  },
  {
   "cell_type": "code",
   "execution_count": null,
   "id": "6ec569f5",
   "metadata": {},
   "outputs": [],
   "source": [
    "model.compile(optimizer = 'adam', loss = 'categorical_crossentropy', metrics = ['accuracy'])"
   ]
  },
  {
   "cell_type": "code",
   "execution_count": null,
   "id": "b4e58c31",
   "metadata": {},
   "outputs": [],
   "source": [
    "model.save('sports.h5')"
   ]
  }
 ],
 "metadata": {
  "kernelspec": {
   "display_name": "Python 3 (ipykernel)",
   "language": "python",
   "name": "python3"
  },
  "language_info": {
   "codemirror_mode": {
    "name": "ipython",
    "version": 3
   },
   "file_extension": ".py",
   "mimetype": "text/x-python",
   "name": "python",
   "nbconvert_exporter": "python",
   "pygments_lexer": "ipython3",
   "version": "3.9.7"
  }
 },
 "nbformat": 4,
 "nbformat_minor": 5
}
