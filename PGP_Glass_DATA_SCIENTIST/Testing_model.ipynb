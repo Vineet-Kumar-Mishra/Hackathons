{
 "cells": [
  {
   "cell_type": "code",
   "execution_count": 1,
   "id": "4a4386a2",
   "metadata": {},
   "outputs": [],
   "source": [
    "import numpy as np\n",
    "import pandas as pd\n",
    "import matplotlib.pyplot as plt\n",
    "import cv2\n",
    "import os\n",
    "import seaborn as sns\n",
    "import tensorflow as tf\n",
    "from tensorflow.keras.applications import MobileNetV2\n",
    "from tensorflow.keras.layers import Input, Dense, GlobalAveragePooling2D, Dropout\n",
    "from tensorflow.keras.models import Model\n",
    "from tensorflow.keras.preprocessing.image import ImageDataGenerator\n",
    "from tensorflow.keras.callbacks import EarlyStopping, ReduceLROnPlateau, ModelCheckpoint\n",
    "from tensorflow_addons.losses import SigmoidFocalCrossEntropy\n",
    "from sklearn.model_selection import train_test_split\n",
    "from sklearn.metrics import f1_score, confusion_matrix\n",
    "from tqdm.notebook import tqdm_notebook\n",
    "import warnings \n",
    "warnings.filterwarnings('ignore')"
   ]
  },
  {
   "cell_type": "markdown",
   "id": "1d334bb7",
   "metadata": {},
   "source": [
    "# Helper function to load/preprocess images"
   ]
  },
  {
   "cell_type": "code",
   "execution_count": 2,
   "id": "618dd6b3",
   "metadata": {},
   "outputs": [],
   "source": [
    "def load_image(path):\n",
    "    im = cv2.imread(path)\n",
    "    im = cv2.cvtColor(im, cv2.COLOR_BGR2RGB)\n",
    "    im = cv2.resize(im, (224,224))\n",
    "    im = im/255.0\n",
    "    \n",
    "    return im"
   ]
  },
  {
   "cell_type": "markdown",
   "id": "4f0162c7",
   "metadata": {},
   "source": [
    "# Test image path and dataframe"
   ]
  },
  {
   "cell_type": "code",
   "execution_count": 3,
   "id": "fae3c4bd",
   "metadata": {},
   "outputs": [],
   "source": [
    "path = './test'\n",
    "test_df = pd.read_csv('test.csv')"
   ]
  },
  {
   "cell_type": "markdown",
   "id": "9f0634af",
   "metadata": {},
   "source": [
    "# Model"
   ]
  },
  {
   "cell_type": "code",
   "execution_count": 5,
   "id": "6e511cf3",
   "metadata": {},
   "outputs": [],
   "source": [
    "model = tf.keras.models.load_model('sports.h5')"
   ]
  },
  {
   "cell_type": "markdown",
   "id": "23a9b6af",
   "metadata": {},
   "source": [
    "# Dictionary of labels created by keras generator"
   ]
  },
  {
   "cell_type": "code",
   "execution_count": 12,
   "id": "80e69b15",
   "metadata": {},
   "outputs": [],
   "source": [
    "dict_label = {'Badminton': 0, 'Cricket': 1, 'Karate': 2, 'Soccer': 3, 'Swimming': 4, 'Tennis': 5, 'Wrestling': 6}\n",
    "dict_pred = {v:k for k,v in dict_label.items()}"
   ]
  },
  {
   "cell_type": "markdown",
   "id": "772dcd12",
   "metadata": {},
   "source": [
    "# Saving the predictions in submission.csv"
   ]
  },
  {
   "cell_type": "code",
   "execution_count": 14,
   "id": "aaecf030",
   "metadata": {},
   "outputs": [],
   "source": [
    "predictions = []\n",
    "for id_im in test_df['image_ID']:\n",
    "    path_im = os.path.join(path,id_im)\n",
    "    im = load_image(path_im)\n",
    "    pred = model.predict(np.expand_dims(im,axis=0))\n",
    "    pred = pred.argmax()\n",
    "#     print(dict_pred[pred])\n",
    "    predictions.append(dict_pred[pred])"
   ]
  },
  {
   "cell_type": "code",
   "execution_count": 21,
   "id": "87460cdd",
   "metadata": {},
   "outputs": [],
   "source": [
    "sub = pd.DataFrame(columns = ['image_ID','label'])\n",
    "sub['image_ID'] = test_df['image_ID']\n",
    "sub['label'] = predictions"
   ]
  },
  {
   "cell_type": "code",
   "execution_count": 24,
   "id": "7ba0ec7b",
   "metadata": {},
   "outputs": [],
   "source": [
    "sub.to_csv('submission.csv',index=False)"
   ]
  }
 ],
 "metadata": {
  "kernelspec": {
   "display_name": "Python 3 (ipykernel)",
   "language": "python",
   "name": "python3"
  },
  "language_info": {
   "codemirror_mode": {
    "name": "ipython",
    "version": 3
   },
   "file_extension": ".py",
   "mimetype": "text/x-python",
   "name": "python",
   "nbconvert_exporter": "python",
   "pygments_lexer": "ipython3",
   "version": "3.9.7"
  }
 },
 "nbformat": 4,
 "nbformat_minor": 5
}
